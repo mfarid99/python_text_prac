{
 "cells": [
  {
   "cell_type": "markdown",
   "id": "1b33a7e8-f230-4481-a000-8d5c07a1cc0c",
   "metadata": {},
   "source": [
    "## String Literal"
   ]
  },
  {
   "cell_type": "code",
   "execution_count": 1,
   "id": "7ce69aee-8f63-45bb-85c1-2ac18f88830b",
   "metadata": {},
   "outputs": [],
   "source": [
    "person = 'Jose'"
   ]
  },
  {
   "cell_type": "code",
   "execution_count": 2,
   "id": "2cb55cfb-eb5c-4cea-af66-a0626dc70dfd",
   "metadata": {},
   "outputs": [
    {
     "data": {
      "text/plain": [
       "'Jose'"
      ]
     },
     "execution_count": 2,
     "metadata": {},
     "output_type": "execute_result"
    }
   ],
   "source": [
    "person"
   ]
  },
  {
   "cell_type": "code",
   "execution_count": 3,
   "id": "9af88fda-fb5d-4247-8aa9-a1668cede27c",
   "metadata": {},
   "outputs": [
    {
     "name": "stdout",
     "output_type": "stream",
     "text": [
      "Jose\n"
     ]
    }
   ],
   "source": [
    "print(person)"
   ]
  },
  {
   "cell_type": "code",
   "execution_count": 4,
   "id": "8690681d-0772-49c9-978c-83c21d41a8c6",
   "metadata": {},
   "outputs": [],
   "source": [
    "sentence_1 = f'I do not know {person}'\n"
   ]
  },
  {
   "cell_type": "code",
   "execution_count": 5,
   "id": "a30faa08-181e-41b6-97a1-bd4d771d9beb",
   "metadata": {},
   "outputs": [
    {
     "data": {
      "text/plain": [
       "'I do not know Jose'"
      ]
     },
     "execution_count": 5,
     "metadata": {},
     "output_type": "execute_result"
    }
   ],
   "source": [
    "sentence_1"
   ]
  },
  {
   "cell_type": "code",
   "execution_count": 6,
   "id": "d9579edf-bb8b-43a9-81c3-4eae9aeac5eb",
   "metadata": {},
   "outputs": [],
   "source": [
    "# dictionary\n",
    "\n",
    "dict_1 = {'a': 123, 'b': 987}\n",
    "sentence_2 = f'my fav thing is {dict_1['a']}'\n"
   ]
  },
  {
   "cell_type": "code",
   "execution_count": 7,
   "id": "6f598a53-771c-4425-babb-a5b5796e488e",
   "metadata": {},
   "outputs": [
    {
     "data": {
      "text/plain": [
       "'my fav thing is 123'"
      ]
     },
     "execution_count": 7,
     "metadata": {},
     "output_type": "execute_result"
    }
   ],
   "source": [
    "sentence_2"
   ]
  },
  {
   "cell_type": "code",
   "execution_count": 9,
   "id": "415805ca-3851-4c86-b74a-57df748ac82f",
   "metadata": {},
   "outputs": [],
   "source": [
    "# list\n",
    "list_1 = [1, 2, 3, 4, 5, 999]\n",
    "sentence_3 = f'my fav list is the 2nd in the list which is {list_1[1]}'"
   ]
  },
  {
   "cell_type": "code",
   "execution_count": 10,
   "id": "d83d0d4c-14af-422d-80f5-48d9d33338d4",
   "metadata": {},
   "outputs": [
    {
     "data": {
      "text/plain": [
       "'my fav list is the 2nd in the list which is 2'"
      ]
     },
     "execution_count": 10,
     "metadata": {},
     "output_type": "execute_result"
    }
   ],
   "source": [
    "sentence_3"
   ]
  },
  {
   "cell_type": "code",
   "execution_count": 18,
   "id": "2f57dacd-b4b1-428c-82b0-02d4ec318289",
   "metadata": {},
   "outputs": [],
   "source": [
    "library = [\n",
    "    ('Author', 'Topic', 'Pages'),\n",
    "    ('Twain', 'Rafting in water alone', 601),\n",
    "    ('Feynman', 'Physics', 95),\n",
    "    ('Hamilton', 'Mythology', 144)\n",
    "]"
   ]
  },
  {
   "cell_type": "code",
   "execution_count": 19,
   "id": "74d05322-1815-43b1-8a1c-2078af8a3d16",
   "metadata": {},
   "outputs": [
    {
     "data": {
      "text/plain": [
       "[('Author', 'Topic', 'Pages'),\n",
       " ('Twain', 'Rafting in water alone', 601),\n",
       " ('Feynman', 'Physics', 95),\n",
       " ('Hamilton', 'Mythology', 144)]"
      ]
     },
     "execution_count": 19,
     "metadata": {},
     "output_type": "execute_result"
    }
   ],
   "source": [
    "library"
   ]
  },
  {
   "cell_type": "code",
   "execution_count": 20,
   "id": "921e43fb-0469-4239-a8b5-679a1faf7f54",
   "metadata": {},
   "outputs": [
    {
     "name": "stdout",
     "output_type": "stream",
     "text": [
      "('Author', 'Topic', 'Pages')\n",
      "('Twain', 'Rafting in water alone', 601)\n",
      "('Feynman', 'Physics', 95)\n",
      "('Hamilton', 'Mythology', 144)\n"
     ]
    }
   ],
   "source": [
    "for man in library:\n",
    "    print (man)"
   ]
  },
  {
   "cell_type": "code",
   "execution_count": 21,
   "id": "e148cb7a-95d1-47e2-b570-ca988f780cbd",
   "metadata": {},
   "outputs": [
    {
     "name": "stdout",
     "output_type": "stream",
     "text": [
      "man is Author\n",
      "man is Twain\n",
      "man is Feynman\n",
      "man is Hamilton\n"
     ]
    }
   ],
   "source": [
    "for man in library:\n",
    "    print(f'man is {man[0]}')"
   ]
  },
  {
   "cell_type": "code",
   "execution_count": 22,
   "id": "ac9a44da-a2d3-4683-9ecf-bf44dc054921",
   "metadata": {},
   "outputs": [
    {
     "name": "stdout",
     "output_type": "stream",
     "text": [
      "Author Topic Pages\n",
      "Twain Rafting in water alone 601\n",
      "Feynman Physics 95\n",
      "Hamilton Mythology 144\n"
     ]
    }
   ],
   "source": [
    "# unpacking tuples\n",
    "for auth, topic, pages in library:\n",
    "    print(f'{auth} {topic} {pages}')"
   ]
  },
  {
   "cell_type": "code",
   "execution_count": 26,
   "id": "fa3285b0-80a7-4734-84f2-a0da6bd40ca1",
   "metadata": {},
   "outputs": [
    {
     "name": "stdout",
     "output_type": "stream",
     "text": [
      "Author     Topic                               Pages\n",
      "Twain      Rafting in water alone                601\n",
      "Feynman    Physics                                95\n",
      "Hamilton   Mythology                             144\n"
     ]
    }
   ],
   "source": [
    "# to clean it up\n",
    "for auth, topic, pages in library:\n",
    "    print(f'{auth:{10}} {topic:{30}} {pages:>{10}}')"
   ]
  },
  {
   "cell_type": "code",
   "execution_count": 27,
   "id": "eceb5167-530f-4fc9-9ff2-d163da2227f3",
   "metadata": {},
   "outputs": [],
   "source": [
    "# date formatting\n",
    "\n",
    "from datetime import datetime"
   ]
  },
  {
   "cell_type": "code",
   "execution_count": 36,
   "id": "73b59c44-acf1-4426-9988-4beec8e65f89",
   "metadata": {},
   "outputs": [],
   "source": [
    "today = datetime(year=2025, month=8, day = 6, hour=15, minute=29, second=45)\n"
   ]
  },
  {
   "cell_type": "code",
   "execution_count": 37,
   "id": "e47218d4-621f-4112-af2c-459e67514edf",
   "metadata": {},
   "outputs": [
    {
     "name": "stdout",
     "output_type": "stream",
     "text": [
      "2025-08-06 15:29:45\n"
     ]
    }
   ],
   "source": [
    "print(today)"
   ]
  },
  {
   "cell_type": "code",
   "execution_count": 40,
   "id": "446d7aea-aaef-4003-b084-0892ab31456d",
   "metadata": {},
   "outputs": [
    {
     "name": "stdout",
     "output_type": "stream",
     "text": [
      " August\n"
     ]
    }
   ],
   "source": [
    "# using strf format \n",
    "print(f'{today: %B}')"
   ]
  },
  {
   "cell_type": "code",
   "execution_count": 41,
   "id": "300415da-6d37-43e7-b5af-82e9a0dbdebb",
   "metadata": {},
   "outputs": [
    {
     "name": "stdout",
     "output_type": "stream",
     "text": [
      " 08/06/25\n"
     ]
    }
   ],
   "source": [
    "print(f'{today: %D}')"
   ]
  },
  {
   "cell_type": "code",
   "execution_count": 43,
   "id": "a3695271-40cb-4275-b15d-e7246c67996d",
   "metadata": {},
   "outputs": [
    {
     "name": "stdout",
     "output_type": "stream",
     "text": [
      " Aug\n"
     ]
    }
   ],
   "source": [
    "print(f'{today: %b}')"
   ]
  },
  {
   "cell_type": "code",
   "execution_count": 44,
   "id": "c97d3a12-94b1-4e54-b4b9-29f78725fade",
   "metadata": {},
   "outputs": [
    {
     "name": "stdout",
     "output_type": "stream",
     "text": [
      " 06\n"
     ]
    }
   ],
   "source": [
    "print(f'{today: %d}')"
   ]
  },
  {
   "cell_type": "code",
   "execution_count": 45,
   "id": "ed31d8e1-e386-4cb1-ba53-0d63bb6c74a3",
   "metadata": {},
   "outputs": [
    {
     "name": "stdout",
     "output_type": "stream",
     "text": [
      " 2025\n"
     ]
    }
   ],
   "source": [
    "print(f'{today: %Y}')"
   ]
  },
  {
   "cell_type": "code",
   "execution_count": null,
   "id": "f926d5fc-9c4f-4e23-8d11-e3ddc7e59ce9",
   "metadata": {},
   "outputs": [],
   "source": []
  }
 ],
 "metadata": {
  "kernelspec": {
   "display_name": "Python 3 (ipykernel)",
   "language": "python",
   "name": "python3"
  },
  "language_info": {
   "codemirror_mode": {
    "name": "ipython",
    "version": 3
   },
   "file_extension": ".py",
   "mimetype": "text/x-python",
   "name": "python",
   "nbconvert_exporter": "python",
   "pygments_lexer": "ipython3",
   "version": "3.13.5"
  }
 },
 "nbformat": 4,
 "nbformat_minor": 5
}
