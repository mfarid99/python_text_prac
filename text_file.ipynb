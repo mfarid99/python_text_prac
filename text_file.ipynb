{
 "cells": [
  {
   "cell_type": "code",
   "execution_count": 15,
   "id": "21b36b87-88e2-45c1-bba8-88aa87dfb05e",
   "metadata": {},
   "outputs": [
    {
     "name": "stdout",
     "output_type": "stream",
     "text": [
      "Overwriting test.txt\n"
     ]
    }
   ],
   "source": [
    "%%writefile test.txt\n",
    "Yello, this is a quick test file.\n",
    "I hope you find yourself."
   ]
  },
  {
   "cell_type": "code",
   "execution_count": 16,
   "id": "1b4976f8-ffc5-43f3-afe3-e74ca5e34608",
   "metadata": {},
   "outputs": [],
   "source": [
    "myfile_1 = open('test.txt')"
   ]
  },
  {
   "cell_type": "code",
   "execution_count": 17,
   "id": "288e5bd2-4952-4161-8f44-5d307f8afed9",
   "metadata": {},
   "outputs": [
    {
     "data": {
      "text/plain": [
       "<_io.TextIOWrapper name='test.txt' mode='r' encoding='UTF-8'>"
      ]
     },
     "execution_count": 17,
     "metadata": {},
     "output_type": "execute_result"
    }
   ],
   "source": [
    "myfile_1"
   ]
  },
  {
   "cell_type": "code",
   "execution_count": 18,
   "id": "e8b4499c-f957-4d9e-9bfd-5d82cba8014b",
   "metadata": {},
   "outputs": [
    {
     "name": "stdout",
     "output_type": "stream",
     "text": [
      "<_io.TextIOWrapper name='test.txt' mode='r' encoding='UTF-8'>\n"
     ]
    }
   ],
   "source": [
    "print(myfile_1)"
   ]
  },
  {
   "cell_type": "code",
   "execution_count": 19,
   "id": "9b0ced1e-ca79-44c3-abb2-6b8c4c8bb4e4",
   "metadata": {},
   "outputs": [
    {
     "data": {
      "text/plain": [
       "'Yello, this is a quick test file.\\nI hope you find yourself.\\n'"
      ]
     },
     "execution_count": 19,
     "metadata": {},
     "output_type": "execute_result"
    }
   ],
   "source": [
    "myfile_1.read()"
   ]
  },
  {
   "cell_type": "code",
   "execution_count": 20,
   "id": "8550cbbb-7c12-4b73-ba3b-f2061df89b7d",
   "metadata": {},
   "outputs": [
    {
     "data": {
      "text/plain": [
       "''"
      ]
     },
     "execution_count": 20,
     "metadata": {},
     "output_type": "execute_result"
    }
   ],
   "source": [
    "myfile_1.read()"
   ]
  },
  {
   "cell_type": "code",
   "execution_count": 21,
   "id": "ba3286ca-8d21-403b-886d-8444a68281ad",
   "metadata": {},
   "outputs": [
    {
     "data": {
      "text/plain": [
       "'Yello, this is a quick test file.\\nI hope you find yourself.\\n'"
      ]
     },
     "execution_count": 21,
     "metadata": {},
     "output_type": "execute_result"
    }
   ],
   "source": [
    "# to reset the quotation mark\n",
    "myfile_1.seek(0)\n",
    "myfile_1.read()"
   ]
  },
  {
   "cell_type": "code",
   "execution_count": 22,
   "id": "70ee7ae6-f27e-484d-9b92-cb8e0c24c34c",
   "metadata": {},
   "outputs": [
    {
     "name": "stdout",
     "output_type": "stream",
     "text": [
      "Yello, this is a quick test file.\n",
      "I hope you find yourself.\n",
      "\n"
     ]
    }
   ],
   "source": [
    "myfile_1.seek(0)\n",
    "print(myfile_1.read())"
   ]
  },
  {
   "cell_type": "code",
   "execution_count": 32,
   "id": "962498ea-a4f7-4108-90ff-849974cc415b",
   "metadata": {},
   "outputs": [
    {
     "data": {
      "text/plain": [
       "0"
      ]
     },
     "execution_count": 32,
     "metadata": {},
     "output_type": "execute_result"
    }
   ],
   "source": [
    "myfile_1.seek(0)"
   ]
  },
  {
   "cell_type": "code",
   "execution_count": 33,
   "id": "8d45dba5-e45b-49a1-bae3-808be935a507",
   "metadata": {},
   "outputs": [
    {
     "data": {
      "text/plain": [
       "'Yello, this is a quick test file.\\nI hope you find yourself.\\n'"
      ]
     },
     "execution_count": 33,
     "metadata": {},
     "output_type": "execute_result"
    }
   ],
   "source": [
    "# once saved in a variable after running seek(0), we no longer need seek(0)\n",
    "content = myfile_1.read()\n",
    "content"
   ]
  },
  {
   "cell_type": "code",
   "execution_count": 34,
   "id": "6a1c7112-5ab2-455c-b317-69cff22c25c6",
   "metadata": {},
   "outputs": [
    {
     "data": {
      "text/plain": [
       "'Yello, this is a quick test file.\\nI hope you find yourself.\\n'"
      ]
     },
     "execution_count": 34,
     "metadata": {},
     "output_type": "execute_result"
    }
   ],
   "source": [
    "content"
   ]
  },
  {
   "cell_type": "code",
   "execution_count": 35,
   "id": "1f0e737e-5652-4244-b673-d7970237a226",
   "metadata": {},
   "outputs": [
    {
     "name": "stdout",
     "output_type": "stream",
     "text": [
      "Yello, this is a quick test file.\n",
      "I hope you find yourself.\n",
      "\n"
     ]
    }
   ],
   "source": [
    "print(content)"
   ]
  },
  {
   "cell_type": "code",
   "execution_count": 36,
   "id": "3d156eab-e347-4264-81fc-f0fedd5ebad4",
   "metadata": {},
   "outputs": [
    {
     "name": "stdout",
     "output_type": "stream",
     "text": [
      "Yello, this is a quick test file.\n",
      "I hope you find yourself.\n",
      "\n"
     ]
    }
   ],
   "source": [
    "print(content)"
   ]
  },
  {
   "cell_type": "code",
   "execution_count": 37,
   "id": "8ac594e0-ce10-4cd7-bf38-b36a38b553a7",
   "metadata": {},
   "outputs": [],
   "source": [
    "# to close file\n",
    "myfile_1.close()"
   ]
  },
  {
   "cell_type": "code",
   "execution_count": 38,
   "id": "ee019214-67f6-4e8a-9b58-5558f31e219c",
   "metadata": {},
   "outputs": [],
   "source": [
    "# to open file \n",
    "myfile_2 = open('test.txt')"
   ]
  },
  {
   "cell_type": "code",
   "execution_count": 39,
   "id": "d01bc905-ca9f-4d55-873a-9395e0ebd7c1",
   "metadata": {},
   "outputs": [
    {
     "data": {
      "text/plain": [
       "['Yello, this is a quick test file.\\n', 'I hope you find yourself.\\n']"
      ]
     },
     "execution_count": 39,
     "metadata": {},
     "output_type": "execute_result"
    }
   ],
   "source": [
    "myfile_2.readlines()"
   ]
  },
  {
   "cell_type": "code",
   "execution_count": 40,
   "id": "f7177e38-1b20-4149-be74-5b6393700fe7",
   "metadata": {},
   "outputs": [
    {
     "data": {
      "text/plain": [
       "0"
      ]
     },
     "execution_count": 40,
     "metadata": {},
     "output_type": "execute_result"
    }
   ],
   "source": [
    "myfile_2.seek(0)"
   ]
  },
  {
   "cell_type": "code",
   "execution_count": 41,
   "id": "00b00182-ccc0-44bc-9df4-1c27b88bdc4e",
   "metadata": {},
   "outputs": [
    {
     "data": {
      "text/plain": [
       "['Yello, this is a quick test file.\\n', 'I hope you find yourself.\\n']"
      ]
     },
     "execution_count": 41,
     "metadata": {},
     "output_type": "execute_result"
    }
   ],
   "source": [
    "my_lines = myfile_2.readlines()\n",
    "my_lines"
   ]
  },
  {
   "cell_type": "code",
   "execution_count": 44,
   "id": "dabf3362-0163-49ba-9b88-cfbd3b6d343f",
   "metadata": {},
   "outputs": [
    {
     "name": "stdout",
     "output_type": "stream",
     "text": [
      "Yello,\n",
      "I\n"
     ]
    }
   ],
   "source": [
    "# Now we can iterate over each line\n",
    "\n",
    "for line in my_lines:\n",
    "    print(line.split()[0])\n"
   ]
  },
  {
   "cell_type": "code",
   "execution_count": 45,
   "id": "73b69c63-18d8-4599-ad06-4bcf85e38133",
   "metadata": {},
   "outputs": [],
   "source": [
    "# Therefore, read() is to grab everything as one giant string.\n",
    "# Read lines is to grab every line as a separate string for a list."
   ]
  },
  {
   "cell_type": "code",
   "execution_count": 47,
   "id": "4492129c-da8e-4289-a2c8-eb0a7b9aeec9",
   "metadata": {},
   "outputs": [
    {
     "data": {
      "text/plain": [
       "''"
      ]
     },
     "execution_count": 47,
     "metadata": {},
     "output_type": "execute_result"
    }
   ],
   "source": [
    "# to override the entire content of a file\n",
    "\n",
    "myfile_2 = open('test.txt', 'w+')\n",
    "myfile_2.read()"
   ]
  },
  {
   "cell_type": "code",
   "execution_count": 48,
   "id": "96e695ed-bf19-4839-9fa6-ee550ff61e76",
   "metadata": {},
   "outputs": [
    {
     "data": {
      "text/plain": [
       "11"
      ]
     },
     "execution_count": 48,
     "metadata": {},
     "output_type": "execute_result"
    }
   ],
   "source": [
    "myfile_2.write('My New Text')"
   ]
  },
  {
   "cell_type": "code",
   "execution_count": 49,
   "id": "32b28045-ccf7-4717-aa21-de4cfcd02474",
   "metadata": {},
   "outputs": [
    {
     "data": {
      "text/plain": [
       "0"
      ]
     },
     "execution_count": 49,
     "metadata": {},
     "output_type": "execute_result"
    }
   ],
   "source": [
    "myfile_2.seek(0)"
   ]
  },
  {
   "cell_type": "code",
   "execution_count": 50,
   "id": "b8f388ac-bc99-41c8-a97f-ded50d642d16",
   "metadata": {},
   "outputs": [],
   "source": [
    "my_new_file2 = myfile_2.read()"
   ]
  },
  {
   "cell_type": "code",
   "execution_count": 51,
   "id": "0a45f5e0-b41f-44c7-8dc2-3f9f16f8cc17",
   "metadata": {},
   "outputs": [
    {
     "data": {
      "text/plain": [
       "'My New Text'"
      ]
     },
     "execution_count": 51,
     "metadata": {},
     "output_type": "execute_result"
    }
   ],
   "source": [
    "my_new_file2"
   ]
  },
  {
   "cell_type": "code",
   "execution_count": 52,
   "id": "55dbf5ba-08b9-4d4c-9e3f-4c4e23886a25",
   "metadata": {},
   "outputs": [
    {
     "data": {
      "text/plain": [
       "'My New Text'"
      ]
     },
     "execution_count": 52,
     "metadata": {},
     "output_type": "execute_result"
    }
   ],
   "source": [
    "my_new_file2"
   ]
  },
  {
   "cell_type": "code",
   "execution_count": 53,
   "id": "1bdb04dc-a92e-4751-8e2e-7bb6f0b78b00",
   "metadata": {},
   "outputs": [],
   "source": [
    "myfile_2.close()"
   ]
  },
  {
   "cell_type": "code",
   "execution_count": 61,
   "id": "137a9b38-ff3f-4c5a-8cf1-ab5bed709a38",
   "metadata": {},
   "outputs": [],
   "source": [
    "# append\n",
    "\n",
    "myfile_3 = open('test.txt', 'a+')"
   ]
  },
  {
   "cell_type": "code",
   "execution_count": 74,
   "id": "d1f2422a-1b65-4858-b71d-a7b746c045b6",
   "metadata": {},
   "outputs": [
    {
     "data": {
      "text/plain": [
       "25"
      ]
     },
     "execution_count": 74,
     "metadata": {},
     "output_type": "execute_result"
    }
   ],
   "source": [
    "myfile_3.write('\\nAppending the appendable')"
   ]
  },
  {
   "cell_type": "code",
   "execution_count": 75,
   "id": "eda8ed78-0f66-4eeb-9f5b-3364a25928c7",
   "metadata": {},
   "outputs": [
    {
     "data": {
      "text/plain": [
       "''"
      ]
     },
     "execution_count": 75,
     "metadata": {},
     "output_type": "execute_result"
    }
   ],
   "source": [
    "myfile_3.read()"
   ]
  },
  {
   "cell_type": "code",
   "execution_count": 76,
   "id": "39185ee9-dbc1-4b72-97db-988471a7c5e1",
   "metadata": {},
   "outputs": [
    {
     "data": {
      "text/plain": [
       "0"
      ]
     },
     "execution_count": 76,
     "metadata": {},
     "output_type": "execute_result"
    }
   ],
   "source": [
    "myfile_3.seek(0)"
   ]
  },
  {
   "cell_type": "code",
   "execution_count": 77,
   "id": "e73cbaf3-a94f-45ce-92db-d69e1afa8332",
   "metadata": {},
   "outputs": [],
   "source": [
    "myfile_3_content = myfile_3.read()"
   ]
  },
  {
   "cell_type": "code",
   "execution_count": 78,
   "id": "b4ce858b-5741-4f6a-9aa1-fa0eee7c3836",
   "metadata": {},
   "outputs": [
    {
     "data": {
      "text/plain": [
       "'My New TextAppending the appendable\\nAppending the appendable\\nAppending the appendable\\nAppending the appendable'"
      ]
     },
     "execution_count": 78,
     "metadata": {},
     "output_type": "execute_result"
    }
   ],
   "source": [
    "myfile_3_content"
   ]
  },
  {
   "cell_type": "code",
   "execution_count": 79,
   "id": "fbaf9e90-343f-4891-b15c-9adeddbffd31",
   "metadata": {},
   "outputs": [
    {
     "data": {
      "text/plain": [
       "0"
      ]
     },
     "execution_count": 79,
     "metadata": {},
     "output_type": "execute_result"
    }
   ],
   "source": [
    "myfile_3.seek(0)"
   ]
  },
  {
   "cell_type": "code",
   "execution_count": 80,
   "id": "4266f2c4-8712-4320-b037-0eafbf6fffdd",
   "metadata": {},
   "outputs": [
    {
     "data": {
      "text/plain": [
       "'My New TextAppending the appendable\\nAppending the appendable\\nAppending the appendable\\nAppending the appendable'"
      ]
     },
     "execution_count": 80,
     "metadata": {},
     "output_type": "execute_result"
    }
   ],
   "source": [
    "myfile_3_content"
   ]
  },
  {
   "cell_type": "code",
   "execution_count": 81,
   "id": "d2f23db2-7481-4d8d-ae7b-25c0616ec64e",
   "metadata": {},
   "outputs": [
    {
     "data": {
      "text/plain": [
       "'My New TextAppending the appendable\\nAppending the appendable\\nAppending the appendable\\nAppending the appendable'"
      ]
     },
     "execution_count": 81,
     "metadata": {},
     "output_type": "execute_result"
    }
   ],
   "source": [
    "myfile_3.read()"
   ]
  },
  {
   "cell_type": "code",
   "execution_count": 83,
   "id": "ef13b714-2ee0-483b-b39c-9531278d0e74",
   "metadata": {},
   "outputs": [],
   "source": [
    "# close file automatically after use\n",
    "with open('test.txt', 'r') as mylatestfile:\n",
    "    mystuff = mylatestfile.readlines()"
   ]
  },
  {
   "cell_type": "code",
   "execution_count": null,
   "id": "9b56e46a-7072-4af6-9ef2-1f88417cddc7",
   "metadata": {},
   "outputs": [],
   "source": []
  }
 ],
 "metadata": {
  "kernelspec": {
   "display_name": "Python 3 (ipykernel)",
   "language": "python",
   "name": "python3"
  },
  "language_info": {
   "codemirror_mode": {
    "name": "ipython",
    "version": 3
   },
   "file_extension": ".py",
   "mimetype": "text/x-python",
   "name": "python",
   "nbconvert_exporter": "python",
   "pygments_lexer": "ipython3",
   "version": "3.13.5"
  }
 },
 "nbformat": 4,
 "nbformat_minor": 5
}
